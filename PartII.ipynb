{
 "cells": [
  {
   "cell_type": "code",
   "execution_count": 1,
   "metadata": {
    "colab": {
     "base_uri": "https://localhost:8080/",
     "height": 35
    },
    "colab_type": "code",
    "id": "_n6k4C18aumU",
    "outputId": "6ed5b85d-9ca2-4175-ca48-c6aeb656653c"
   },
   "outputs": [
    {
     "name": "stderr",
     "output_type": "stream",
     "text": [
      "Using TensorFlow backend.\n"
     ]
    }
   ],
   "source": [
    "from keras.layers import Input, Conv2D, MaxPooling2D, UpSampling2D\n",
    "from keras.models import Model\n",
    "from keras.datasets import mnist\n",
    "from keras.callbacks import TensorBoard\n",
    "from keras import backend as K\n",
    "import numpy as np\n",
    "import matplotlib.pyplot as plt\n",
    "import math\n",
    "import numpy as np\n",
    "import cv2\n",
    "import pickle\n",
    "from keras import optimizers\n",
    "%matplotlib inline"
   ]
  },
  {
   "cell_type": "code",
   "execution_count": 2,
   "metadata": {
    "colab": {},
    "colab_type": "code",
    "id": "P3skcNM4auny"
   },
   "outputs": [],
   "source": [
    "(X_train, y_train), (X_test, y_test) = mnist.load_data()\n",
    "X_train = X_train.astype('float32')\n",
    "X_test = X_test.astype('float32')\n",
    "X_train /= 255\n",
    "X_test /= 255\n",
    "\n",
    "\n",
    "X_train = np.reshape(X_train, (len(X_train), 28,28, 1))    # adapt this if using 'channels_first' image data format\n",
    "X_test = np.reshape(X_test, (len(X_test), 28,28, 1))       # adapt this if using 'channels_first' image data format\n",
    "\n"
   ]
  },
  {
   "cell_type": "code",
   "execution_count": 3,
   "metadata": {
    "colab": {},
    "colab_type": "code",
    "id": "ZKjeqAKcauoT"
   },
   "outputs": [],
   "source": [
    "X_train_noisy = np.random.normal(loc=0.0, scale=1.0, size=(len(X_train),4,4,8))\n",
    "X_test_noisy_1 = np.random.normal(loc=0.0, scale=1.0, size=(len(X_test),4,4,8))\n",
    "\n"
   ]
  },
  {
   "cell_type": "code",
   "execution_count": 4,
   "metadata": {
    "colab": {
     "base_uri": "https://localhost:8080/",
     "height": 392
    },
    "colab_type": "code",
    "id": "JRRO1LEyVJSL",
    "outputId": "042392f9-be78-40bb-f420-71818856a7a6"
   },
   "outputs": [
    {
     "name": "stdout",
     "output_type": "stream",
     "text": [
      "Epoch 1/10\n",
      "60000/60000 [==============================] - 96s 2ms/step - loss: 0.3363\n",
      "Epoch 2/10\n",
      "60000/60000 [==============================] - 73s 1ms/step - loss: 0.2898\n",
      "Epoch 3/10\n",
      "60000/60000 [==============================] - 47s 778us/step - loss: 0.2864\n",
      "Epoch 4/10\n",
      "60000/60000 [==============================] - 47s 781us/step - loss: 0.2799\n",
      "Epoch 5/10\n",
      "60000/60000 [==============================] - 46s 771us/step - loss: 0.2756\n",
      "Epoch 6/10\n",
      "60000/60000 [==============================] - 47s 778us/step - loss: 0.2715\n",
      "Epoch 7/10\n",
      "60000/60000 [==============================] - 54s 901us/step - loss: 0.2696\n",
      "Epoch 8/10\n",
      "60000/60000 [==============================] - 69s 1ms/step - loss: 0.2690\n",
      "Epoch 9/10\n",
      "60000/60000 [==============================] - 48s 793us/step - loss: 0.2685\n",
      "Epoch 10/10\n",
      "60000/60000 [==============================] - 47s 779us/step - loss: 0.2681\n"
     ]
    },
    {
     "data": {
      "text/plain": [
       "<keras.callbacks.History at 0x7f10370f3c18>"
      ]
     },
     "execution_count": 4,
     "metadata": {},
     "output_type": "execute_result"
    }
   ],
   "source": [
    "\n",
    "input_img = Input(shape=(4,4,8))    # adapt this if using 'channels_first' image data format\n",
    "\n",
    "x = Conv2D(8, (3, 3), activation='relu', padding='same')(input_img)\n",
    "x = UpSampling2D((2, 2))(x)\n",
    "x = Conv2D(8, (3, 3), activation='relu', padding='same')(x)\n",
    "x = UpSampling2D((2, 2))(x)\n",
    "x = Conv2D(16, (3, 3), activation='relu')(x)\n",
    "x = UpSampling2D((2, 2))(x)\n",
    "decoded = Conv2D(1, (3, 3), activation='sigmoid', padding='same')(x)\n",
    "\n",
    "autoencoder = Model(input_img, decoded)\n",
    "autoencoder.compile(optimizer='adadelta', loss='binary_crossentropy')\n",
    "\n",
    "autoencoder.fit(X_train_noisy, X_train, epochs=10, batch_size=128, shuffle=True,callbacks=[TensorBoard(log_dir='conv_autoencoder')], verbose=1)"
   ]
  },
  {
   "cell_type": "code",
   "execution_count": 5,
   "metadata": {
    "colab": {
     "base_uri": "https://localhost:8080/",
     "height": 215
    },
    "colab_type": "code",
    "id": "JzaorK9CauqS",
    "outputId": "8d3038ec-c250-4253-8735-d3cd46f7838a"
   },
   "outputs": [
    {
     "data": {
      "image/png": "[encoded data removed]",
      "text/plain": [
       "<Figure size 2000x1400 with 10 Axes>"
      ]
     },
     "metadata": {
      "needs_background": "light"
     },
     "output_type": "display_data"
    }
   ],
   "source": [
    "decoded_imgs = autoencoder.predict(X_test_noisy_1)\n",
    "n = 10\n",
    "plt.figure(figsize=(20, 14), dpi=100)\n",
    "for i in range(n):\n",
    "    # display original\n",
    "    ax = plt.subplot(2, n, i + 1)\n",
    "    plt.imshow(cv2.resize(decoded_imgs[i],(32,32)),cmap=\"gray\")\n",
    "\n",
    "\n",
    "\n",
    "plt.show()\n",
    "\n",
    "# take a look at the 128-dimensional encoded representation\n",
    "# these representations are 8x4x4, so we reshape them to 4x32 in order to be able to display them as grayscale images\n"
   ]
  },
  {
   "cell_type": "code",
   "execution_count": 0,
   "metadata": {
    "colab": {},
    "colab_type": "code",
    "id": "L25LrCfLMt7r"
   },
   "outputs": [],
   "source": []
  }
 ],
 "metadata": {
  "accelerator": "GPU",
  "colab": {
   "collapsed_sections": [],
   "name": "Part_2 .ipynb",
   "provenance": [],
   "version": "0.3.2"
  },
  "kernelspec": {
   "display_name": "Python 3",
   "language": "python",
   "name": "python3"
  },
  "language_info": {
   "codemirror_mode": {
    "name": "ipython",
    "version": 3
   },
   "file_extension": ".py",
   "mimetype": "text/x-python",
   "name": "python",
   "nbconvert_exporter": "python",
   "pygments_lexer": "ipython3",
   "version": "3.6.8"
  }
 },
 "nbformat": 4,
 "nbformat_minor": 1
}
