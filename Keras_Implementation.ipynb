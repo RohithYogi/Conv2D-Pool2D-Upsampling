{
 "cells": [
  {
   "cell_type": "code",
   "execution_count": 1,
   "metadata": {},
   "outputs": [
    {
     "name": "stderr",
     "output_type": "stream",
     "text": [
      "Using TensorFlow backend.\n"
     ]
    }
   ],
   "source": [
    "from keras.layers import Input, Conv2D, MaxPooling2D, UpSampling2D\n",
    "from keras.models import Model\n",
    "from keras.datasets import mnist\n",
    "from keras.callbacks import TensorBoard\n",
    "from keras import backend as K\n",
    "import numpy as np\n",
    "import matplotlib.pyplot as plt\n",
    "import pickle"
   ]
  },
  {
   "cell_type": "code",
   "execution_count": 2,
   "metadata": {},
   "outputs": [
    {
     "name": "stdout",
     "output_type": "stream",
     "text": [
      "shape of encoded (None, 4, 4, 8)\n"
     ]
    }
   ],
   "source": [
    "\n",
    "input_img = Input(shape=(28, 28, 1))    # adapt this if using 'channels_first' image data format\n",
    "\n",
    "x = Conv2D(16, (3, 3), activation='relu', padding='same')(input_img)\n",
    "x = MaxPooling2D((2, 2), padding='same')(x)\n",
    "x = Conv2D(8, (3, 3), activation='relu', padding='same')(x)\n",
    "x = MaxPooling2D((2, 2), padding='same')(x)\n",
    "x = Conv2D(8, (3, 3), activation='relu', padding='same')(x)\n",
    "encoded = MaxPooling2D((2, 2), padding='same')(x)\n",
    "\n",
    "print(\"shape of encoded\", K.int_shape(encoded))"
   ]
  },
  {
   "cell_type": "code",
   "execution_count": 3,
   "metadata": {},
   "outputs": [],
   "source": [
    "x = Conv2D(8, (3, 3), activation='relu', padding='same')(encoded)\n",
    "x = UpSampling2D((2, 2))(x)\n",
    "x = Conv2D(8, (3, 3), activation='relu', padding='same')(x)\n",
    "x = UpSampling2D((2, 2))(x)\n",
    "x = Conv2D(16, (3, 3), activation='relu')(x)\n",
    "x = UpSampling2D((2, 2))(x)\n",
    "decoded = Conv2D(1, (3, 3), activation='sigmoid', padding='same')(x)"
   ]
  },
  {
   "cell_type": "code",
   "execution_count": 4,
   "metadata": {},
   "outputs": [],
   "source": [
    "autoencoder = Model(input_img, decoded)\n",
    "autoencoder.compile(optimizer='adadelta', loss='binary_crossentropy')"
   ]
  },
  {
   "cell_type": "code",
   "execution_count": 5,
   "metadata": {},
   "outputs": [
    {
     "name": "stdout",
     "output_type": "stream",
     "text": [
      "Downloading data from https://s3.amazonaws.com/img-datasets/mnist.npz\n",
      "11493376/11490434 [==============================] - 6s 1us/step\n"
     ]
    }
   ],
   "source": [
    "from keras.datasets import mnist\n",
    "(x_train, y_train), (x_test, y_test) = mnist.load_data()\n",
    "\n",
    "x_train = x_train.astype('float32') / 255.\n",
    "x_test = x_test.astype('float32') / 255.\n",
    "x_train = np.reshape(x_train, (len(x_train), 28, 28, 1))    \n",
    "x_test = np.reshape(x_test, (len(x_test), 28, 28, 1))  "
   ]
  },
  {
   "cell_type": "code",
   "execution_count": 6,
   "metadata": {},
   "outputs": [
    {
     "name": "stdout",
     "output_type": "stream",
     "text": [
      "Train on 60000 samples, validate on 10000 samples\n",
      "Epoch 1/50\n",
      " - 75s - loss: 0.2156 - val_loss: 0.1714\n",
      "Epoch 2/50\n",
      " - 68s - loss: 0.1580 - val_loss: 0.1447\n",
      "Epoch 3/50\n",
      " - 69s - loss: 0.1392 - val_loss: 0.1358\n",
      "Epoch 4/50\n",
      " - 73s - loss: 0.1305 - val_loss: 0.1252\n",
      "Epoch 5/50\n",
      " - 68s - loss: 0.1253 - val_loss: 0.1223\n",
      "Epoch 6/50\n",
      " - 66s - loss: 0.1214 - val_loss: 0.1209\n",
      "Epoch 7/50\n",
      " - 63s - loss: 0.1184 - val_loss: 0.1164\n",
      "Epoch 8/50\n",
      " - 62s - loss: 0.1162 - val_loss: 0.1198\n",
      "Epoch 9/50\n",
      " - 63s - loss: 0.1138 - val_loss: 0.1106\n",
      "Epoch 10/50\n",
      " - 62s - loss: 0.1128 - val_loss: 0.1100\n",
      "Epoch 11/50\n",
      " - 62s - loss: 0.1117 - val_loss: 0.1124\n",
      "Epoch 12/50\n",
      " - 63s - loss: 0.1105 - val_loss: 0.1094\n",
      "Epoch 13/50\n",
      " - 63s - loss: 0.1098 - val_loss: 0.1083\n",
      "Epoch 14/50\n",
      " - 63s - loss: 0.1089 - val_loss: 0.1103\n",
      "Epoch 15/50\n",
      " - 62s - loss: 0.1083 - val_loss: 0.1092\n",
      "Epoch 16/50\n",
      " - 62s - loss: 0.1077 - val_loss: 0.1136\n",
      "Epoch 17/50\n",
      " - 62s - loss: 0.1071 - val_loss: 0.1066\n",
      "Epoch 18/50\n",
      " - 64s - loss: 0.1065 - val_loss: 0.1058\n",
      "Epoch 19/50\n",
      " - 62s - loss: 0.1063 - val_loss: 0.1071\n",
      "Epoch 20/50\n",
      " - 62s - loss: 0.1055 - val_loss: 0.1016\n",
      "Epoch 21/50\n",
      " - 62s - loss: 0.1053 - val_loss: 0.1035\n",
      "Epoch 22/50\n",
      " - 62s - loss: 0.1050 - val_loss: 0.1050\n",
      "Epoch 23/50\n",
      " - 62s - loss: 0.1046 - val_loss: 0.1047\n",
      "Epoch 24/50\n",
      " - 61s - loss: 0.1045 - val_loss: 0.1027\n",
      "Epoch 25/50\n",
      " - 61s - loss: 0.1040 - val_loss: 0.1025\n",
      "Epoch 26/50\n",
      " - 62s - loss: 0.1036 - val_loss: 0.1035\n",
      "Epoch 27/50\n",
      " - 62s - loss: 0.1033 - val_loss: 0.1027\n",
      "Epoch 28/50\n",
      " - 62s - loss: 0.1033 - val_loss: 0.1040\n",
      "Epoch 29/50\n",
      " - 62s - loss: 0.1029 - val_loss: 0.1030\n",
      "Epoch 30/50\n",
      " - 62s - loss: 0.1029 - val_loss: 0.1044\n",
      "Epoch 31/50\n",
      " - 62s - loss: 0.1023 - val_loss: 0.1004\n",
      "Epoch 32/50\n",
      " - 61s - loss: 0.1021 - val_loss: 0.1000\n",
      "Epoch 33/50\n",
      " - 61s - loss: 0.1018 - val_loss: 0.0989\n",
      "Epoch 34/50\n",
      " - 61s - loss: 0.1015 - val_loss: 0.0990\n",
      "Epoch 35/50\n",
      " - 61s - loss: 0.1014 - val_loss: 0.1013\n",
      "Epoch 36/50\n",
      " - 81s - loss: 0.1015 - val_loss: 0.1004\n",
      "Epoch 37/50\n",
      " - 89s - loss: 0.1009 - val_loss: 0.0997\n",
      "Epoch 38/50\n",
      " - 84s - loss: 0.1009 - val_loss: 0.0991\n",
      "Epoch 39/50\n",
      " - 90s - loss: 0.1006 - val_loss: 0.1014\n",
      "Epoch 40/50\n",
      " - 75s - loss: 0.1006 - val_loss: 0.0977\n",
      "Epoch 41/50\n",
      " - 83s - loss: 0.1005 - val_loss: 0.1002\n",
      "Epoch 42/50\n",
      " - 84s - loss: 0.1002 - val_loss: 0.0997\n",
      "Epoch 43/50\n",
      " - 71s - loss: 0.1001 - val_loss: 0.0979\n",
      "Epoch 44/50\n",
      " - 72s - loss: 0.1001 - val_loss: 0.0969\n",
      "Epoch 45/50\n",
      " - 82s - loss: 0.0999 - val_loss: 0.0964\n",
      "Epoch 46/50\n",
      " - 76s - loss: 0.0998 - val_loss: 0.0987\n",
      "Epoch 47/50\n",
      " - 74s - loss: 0.0997 - val_loss: 0.1007\n",
      "Epoch 48/50\n",
      " - 70s - loss: 0.0996 - val_loss: 0.0982\n",
      "Epoch 49/50\n",
      " - 71s - loss: 0.0996 - val_loss: 0.0988\n",
      "Epoch 50/50\n",
      " - 79s - loss: 0.0991 - val_loss: 0.0979\n"
     ]
    },
    {
     "data": {
      "text/plain": [
       "<keras.callbacks.History at 0x7fc77602b9e8>"
      ]
     },
     "execution_count": 6,
     "metadata": {},
     "output_type": "execute_result"
    }
   ],
   "source": [
    "autoencoder.fit(x_train, x_train, epochs=50, batch_size=128, shuffle=True, validation_data=(x_test, x_test),\n",
    "                callbacks=[TensorBoard(log_dir='conv_autoencoder')], verbose=2)"
   ]
  },
  {
   "cell_type": "code",
   "execution_count": 7,
   "metadata": {},
   "outputs": [],
   "source": [
    "decoded_imgs = autoencoder.predict(x_test)"
   ]
  },
  {
   "cell_type": "code",
   "execution_count": 8,
   "metadata": {},
   "outputs": [
    {
     "data": {
      "image/png": "[encoded data removed]",
      "text/plain": [
       "<Figure size 1000x400 with 20 Axes>"
      ]
     },
     "metadata": {
      "needs_background": "light"
     },
     "output_type": "display_data"
    }
   ],
   "source": [
    "n = 10\n",
    "plt.figure(figsize=(10, 4), dpi=100)\n",
    "for i in range(n):\n",
    "    # display original\n",
    "    ax = plt.subplot(2, n, i + 1)\n",
    "    plt.imshow(x_test[i].reshape(28, 28))\n",
    "    plt.gray()\n",
    "    ax.set_axis_off()\n",
    "\n",
    "    # display reconstruction\n",
    "    ax = plt.subplot(2, n, i + n + 1)\n",
    "    plt.imshow(decoded_imgs[i].reshape(28, 28))\n",
    "    plt.gray()\n",
    "    ax.set_axis_off()\n",
    "\n",
    "plt.show()"
   ]
  },
  {
   "cell_type": "code",
   "execution_count": 9,
   "metadata": {},
   "outputs": [],
   "source": [
    "encoder = Model(input_img, encoded)\n",
    "encoded_imgs = encoder.predict(x_test)\n",
    "\n",
    "# save latent space features 128-d vector\n",
    "pickle.dump(encoded_imgs, open('conv_autoe_features.pickle', 'wb'))"
   ]
  },
  {
   "cell_type": "code",
   "execution_count": 10,
   "metadata": {},
   "outputs": [
    {
     "data": {
      "image/png": "[encoded data removed]",
      "text/plain": [
       "<Figure size 1000x400 with 10 Axes>"
      ]
     },
     "metadata": {
      "needs_background": "light"
     },
     "output_type": "display_data"
    }
   ],
   "source": [
    "n = 10\n",
    "plt.figure(figsize=(10, 4), dpi=100)\n",
    "for i in range(n):\n",
    "    ax = plt.subplot(1, n, i + 1)\n",
    "    plt.imshow(encoded_imgs[i].reshape(4, 4 * 8).T)\n",
    "    plt.gray()\n",
    "    ax.set_axis_off()\n",
    "\n",
    "plt.show()"
   ]
  },
  {
   "cell_type": "code",
   "execution_count": null,
   "metadata": {},
   "outputs": [],
   "source": []
  }
 ],
 "metadata": {
  "kernelspec": {
   "display_name": "Python 3",
   "language": "python",
   "name": "python3"
  },
  "language_info": {
   "codemirror_mode": {
    "name": "ipython",
    "version": 3
   },
   "file_extension": ".py",
   "mimetype": "text/x-python",
   "name": "python",
   "nbconvert_exporter": "python",
   "pygments_lexer": "ipython3",
   "version": "3.6.8"
  }
 },
 "nbformat": 4,
 "nbformat_minor": 2
}
